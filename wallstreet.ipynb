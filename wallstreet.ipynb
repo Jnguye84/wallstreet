{
 "cells": [
  {
   "cell_type": "markdown",
   "metadata": {},
   "source": [
    "The most used forms of financial stock advice is\n",
    "- r/wallstreetbets\n",
    "- The economist\n",
    "- Wall street journal\n",
    "- CNBC\n",
    "- Yahoo Finance\n",
    "\n",
    "The goal is to perform sentiment analysis and see which financial stock advice site is the most bias?\n",
    "\n",
    "https://www.youtube.com/watch?v=ng2o98k983k"
   ]
  },
  {
   "cell_type": "markdown",
   "metadata": {},
   "source": [
    "The ycnbc library is great for getting headlines of cnbc articles- it makes API retrieving super easy. Much easier than the YouTube API process that took me about 20 hours to configure. However, I can also show you guys how I used the YouTube API another day. For groups that wanted to get *financial data*, you can use the cnbc library.\n",
    "\n",
    "**cnbc library**\n",
    "- A Python package that wraps CNBC API endpoints and returns financial data in JSON format. The API queries business news and live market data to streamline the development of financial applications."
   ]
  },
  {
   "cell_type": "code",
   "execution_count": 27,
   "metadata": {},
   "outputs": [],
   "source": [
    "import pandas as pd\n"
   ]
  },
  {
   "cell_type": "code",
   "execution_count": 9,
   "metadata": {},
   "outputs": [
    {
     "name": "stdout",
     "output_type": "stream",
     "text": [
      "                                the wolf of wall street\n",
      "0                                            written by\n",
      "1                                        terence winter\n",
      "2                                     based on the book\n",
      "3                                                    by\n",
      "4                                        jordan belfort\n",
      "...                                                 ...\n",
      "6100                  pen... sell me this pen...sell me\n",
      "6101                                        this pen...\n",
      "6102                                          fade out.\n",
      "6103  script provided for educational purposes. more...\n",
      "6104                                                  +\n",
      "\n",
      "[6105 rows x 1 columns]\n"
     ]
    },
    {
     "name": "stderr",
     "output_type": "stream",
     "text": [
      "/var/folders/1_/yd4gnnk163l7vz32b7d_blj80000gn/T/ipykernel_4066/2527838432.py:1: ParserWarning: Falling back to the 'python' engine because the 'c' engine does not support regex separators (separators > 1 char and different from '\\s+' are interpreted as regex); you can avoid this warning by specifying engine='python'.\n",
      "  wall_street = pd.read_csv('wallstreet_script.txt', sep= r'\\n')\n"
     ]
    }
   ],
   "source": [
    "wall_street = pd.read_csv('wallstreet_script.txt', sep= r'\\n')\n",
    "print(wall_street)\n"
   ]
  }
 ],
 "metadata": {
  "kernelspec": {
   "display_name": "wallstreet",
   "language": "python",
   "name": "python3"
  },
  "language_info": {
   "codemirror_mode": {
    "name": "ipython",
    "version": 3
   },
   "file_extension": ".py",
   "mimetype": "text/x-python",
   "name": "python",
   "nbconvert_exporter": "python",
   "pygments_lexer": "ipython3",
   "version": "3.9.7"
  },
  "orig_nbformat": 4
 },
 "nbformat": 4,
 "nbformat_minor": 2
}
